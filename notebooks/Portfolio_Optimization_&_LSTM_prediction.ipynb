{
  "cells": [
    {
      "cell_type": "code",
      "source": [
        "!pip install yfinance"
      ],
      "metadata": {
        "colab": {
          "base_uri": "https://localhost:8080/"
        },
        "id": "ivokWRKd1CXi",
        "outputId": "d3c92e04-1492-40b0-bfbd-ca07e83ec97b"
      },
      "execution_count": null,
      "outputs": [
        {
          "output_type": "stream",
          "name": "stdout",
          "text": [
            "Looking in indexes: https://pypi.org/simple, https://us-python.pkg.dev/colab-wheels/public/simple/\n",
            "Collecting yfinance\n",
            "  Downloading yfinance-0.1.87-py2.py3-none-any.whl (29 kB)\n",
            "Requirement already satisfied: lxml>=4.5.1 in /usr/local/lib/python3.7/dist-packages (from yfinance) (4.9.1)\n",
            "Requirement already satisfied: appdirs>=1.4.4 in /usr/local/lib/python3.7/dist-packages (from yfinance) (1.4.4)\n",
            "Collecting requests>=2.26\n",
            "  Downloading requests-2.28.1-py3-none-any.whl (62 kB)\n",
            "\u001b[K     |████████████████████████████████| 62 kB 288 kB/s \n",
            "\u001b[?25hRequirement already satisfied: numpy>=1.15 in /usr/local/lib/python3.7/dist-packages (from yfinance) (1.21.6)\n",
            "Requirement already satisfied: pandas>=0.24.0 in /usr/local/lib/python3.7/dist-packages (from yfinance) (1.3.5)\n",
            "Requirement already satisfied: multitasking>=0.0.7 in /usr/local/lib/python3.7/dist-packages (from yfinance) (0.0.11)\n",
            "Requirement already satisfied: pytz>=2017.3 in /usr/local/lib/python3.7/dist-packages (from pandas>=0.24.0->yfinance) (2022.6)\n",
            "Requirement already satisfied: python-dateutil>=2.7.3 in /usr/local/lib/python3.7/dist-packages (from pandas>=0.24.0->yfinance) (2.8.2)\n",
            "Requirement already satisfied: six>=1.5 in /usr/local/lib/python3.7/dist-packages (from python-dateutil>=2.7.3->pandas>=0.24.0->yfinance) (1.15.0)\n",
            "Requirement already satisfied: charset-normalizer<3,>=2 in /usr/local/lib/python3.7/dist-packages (from requests>=2.26->yfinance) (2.1.1)\n",
            "Requirement already satisfied: idna<4,>=2.5 in /usr/local/lib/python3.7/dist-packages (from requests>=2.26->yfinance) (2.10)\n",
            "Requirement already satisfied: certifi>=2017.4.17 in /usr/local/lib/python3.7/dist-packages (from requests>=2.26->yfinance) (2022.9.24)\n",
            "Requirement already satisfied: urllib3<1.27,>=1.21.1 in /usr/local/lib/python3.7/dist-packages (from requests>=2.26->yfinance) (1.24.3)\n",
            "Installing collected packages: requests, yfinance\n",
            "  Attempting uninstall: requests\n",
            "    Found existing installation: requests 2.23.0\n",
            "    Uninstalling requests-2.23.0:\n",
            "      Successfully uninstalled requests-2.23.0\n",
            "Successfully installed requests-2.28.1 yfinance-0.1.87\n"
          ]
        }
      ]
    },
    {
      "cell_type": "code",
      "source": [
        "!pip install PyPortfolioOpt"
      ],
      "metadata": {
        "colab": {
          "base_uri": "https://localhost:8080/"
        },
        "id": "8uDveEz37r11",
        "outputId": "35380f03-4011-46c9-a95b-d9bec0bfac4c"
      },
      "execution_count": null,
      "outputs": [
        {
          "output_type": "stream",
          "name": "stdout",
          "text": [
            "Looking in indexes: https://pypi.org/simple, https://us-python.pkg.dev/colab-wheels/public/simple/\n",
            "Collecting PyPortfolioOpt\n",
            "  Downloading pyportfolioopt-1.5.2-py3-none-any.whl (61 kB)\n",
            "\u001b[K     |████████████████████████████████| 61 kB 2.1 MB/s \n",
            "\u001b[?25hRequirement already satisfied: pandas>=0.19 in /usr/local/lib/python3.7/dist-packages (from PyPortfolioOpt) (1.3.5)\n",
            "Requirement already satisfied: scipy<2.0,>=1.3 in /usr/local/lib/python3.7/dist-packages (from PyPortfolioOpt) (1.7.3)\n",
            "Requirement already satisfied: cvxpy<2.0.0,>=1.1.10 in /usr/local/lib/python3.7/dist-packages (from PyPortfolioOpt) (1.2.2)\n",
            "Requirement already satisfied: numpy<2.0,>=1.12 in /usr/local/lib/python3.7/dist-packages (from PyPortfolioOpt) (1.21.6)\n",
            "Requirement already satisfied: scs>=1.1.6 in /usr/local/lib/python3.7/dist-packages (from cvxpy<2.0.0,>=1.1.10->PyPortfolioOpt) (3.2.2)\n",
            "Requirement already satisfied: osqp>=0.4.1 in /usr/local/lib/python3.7/dist-packages (from cvxpy<2.0.0,>=1.1.10->PyPortfolioOpt) (0.6.2.post0)\n",
            "Requirement already satisfied: ecos>=2 in /usr/local/lib/python3.7/dist-packages (from cvxpy<2.0.0,>=1.1.10->PyPortfolioOpt) (2.0.10)\n",
            "Requirement already satisfied: qdldl in /usr/local/lib/python3.7/dist-packages (from osqp>=0.4.1->cvxpy<2.0.0,>=1.1.10->PyPortfolioOpt) (0.1.5.post2)\n",
            "Requirement already satisfied: python-dateutil>=2.7.3 in /usr/local/lib/python3.7/dist-packages (from pandas>=0.19->PyPortfolioOpt) (2.8.2)\n",
            "Requirement already satisfied: pytz>=2017.3 in /usr/local/lib/python3.7/dist-packages (from pandas>=0.19->PyPortfolioOpt) (2022.6)\n",
            "Requirement already satisfied: six>=1.5 in /usr/local/lib/python3.7/dist-packages (from python-dateutil>=2.7.3->pandas>=0.19->PyPortfolioOpt) (1.15.0)\n",
            "Installing collected packages: PyPortfolioOpt\n",
            "Successfully installed PyPortfolioOpt-1.5.2\n"
          ]
        }
      ]
    },
    {
      "cell_type": "code",
      "execution_count": null,
      "metadata": {
        "id": "gGswThQ5J25Y"
      },
      "outputs": [],
      "source": [
        "import pandas as pd\n",
        "import matplotlib.pyplot as plt\n",
        "import requests \n",
        "import copy\n",
        "import numpy as np\n",
        "from IPython.display import display\n",
        "import yfinance as yf\n",
        "import pandas_datareader\n",
        "import math \n",
        "from sklearn import preprocessing\n",
        "import pypfopt "
      ]
    },
    {
      "cell_type": "markdown",
      "metadata": {
        "id": "IRX0Szsfy0jH"
      },
      "source": [
        "### Define function"
      ]
    },
    {
      "cell_type": "markdown",
      "metadata": {
        "id": "t8-cDDCEy0jJ"
      },
      "source": [
        "#### Get adjusted price from Yahoo finance"
      ]
    },
    {
      "cell_type": "code",
      "execution_count": null,
      "metadata": {
        "id": "EWnBNpZDy0jJ"
      },
      "outputs": [],
      "source": [
        "from datetime import datetime\n",
        "from dateutil.relativedelta import relativedelta\n",
        "\n",
        "# year_ago = 1mo,3mo,6mo,1y,2y,5y,10y,ytd,max\n",
        "# interval = 1d,1wk,1mo \n",
        "def get_adjusted_price(symbols, interval=\"1mo\",year_ago=\"5y\"):\n",
        "    sym_string = \" \".join(symbols)\n",
        "    df = yf.download(sym_string,group_by = 'ticker',interval=interval,period=year_ago)\n",
        "    # extract the second-level (Adj Close) and drop the level with symbol name left\n",
        "    df = df.xs(\"Adj Close\",axis =1, level=1, drop_level=True)\n",
        "    \n",
        "    return (df,df.columns)"
      ]
    },
    {
      "cell_type": "markdown",
      "metadata": {
        "id": "VqV2tVdGy0jL"
      },
      "source": [
        "#### Risk Premium"
      ]
    },
    {
      "cell_type": "code",
      "execution_count": null,
      "metadata": {
        "id": "ZHzhRpudy0jL"
      },
      "outputs": [],
      "source": [
        "# return MONTHLY risk-free rate \n",
        "def get_rf_lst():\n",
        "     url = 'https://data.nasdaq.com/api/v3/datasets/FRED/DGS5.json?api_key=WSyPTtqy6YG_yeY2Lwb8&start_date=2000-01-01&collapse=monthly'\n",
        "     rf_data = requests.get(url).json()\n",
        "     return (pd.DataFrame(rf_data[\"dataset\"][\"data\"]))[1]/1200\n",
        "\n",
        "# return current ANNUAL rf\n",
        "def get_rf():\n",
        "     return get_rf_lst()[0]*12\n",
        "\n",
        "# return the return (percent change minus risk-free rate) \n",
        "def get_risk_premium(df):\n",
        "     df=(df.reset_index(drop=True).pct_change()).sub(get_rf_lst()[:len(df)][::-1],axis=0)\n",
        "     return df"
      ]
    },
    {
      "cell_type": "markdown",
      "metadata": {
        "id": "lBN8SNjvy0jM"
      },
      "source": [
        "#### Optimization"
      ]
    },
    {
      "cell_type": "code",
      "execution_count": null,
      "metadata": {
        "id": "O9nLxe7ay0jM"
      },
      "outputs": [],
      "source": [
        "from scipy.optimize import minimize, LinearConstraint\n",
        "\n",
        "def objective_SR (weight,rtn,cov_mat):\n",
        "     rtn = np.dot(weight,rtn)\n",
        "     std = np.sqrt(np.matmul(np.matmul(weight,cov_mat),weight))\n",
        "     sr = (rtn - get_rf())/std\n",
        "     return -sr # minimize negative Sharpe == maximize sharpe\n"
      ]
    },
    {
      "cell_type": "markdown",
      "metadata": {
        "id": "wDKWZTD6y0jN"
      },
      "source": [
        "## OOP time \n",
        "### input:  \n",
        "symbol_list - list of symbols of stocks <br>\n",
        "interval (default = \"1mon\") - interval of each data point <br>\n",
        "year_ago (default = \"5y\") - time frame of historical data to use <br>\n",
        "short_sale_constrain (default = True) - true if NOT allow to short sale (no negative weight) <br>\n",
        "ind_weight_constrain (default = None) - percentage that each weight cannot exceed (cannot exceed 1/N fro N stocks) <br>\n",
        "invested_cash (default = 100000) - cash you want to indvest in this portfolio"
      ]
    },
    {
      "cell_type": "code",
      "execution_count": null,
      "metadata": {
        "id": "DctytNy8y0jN"
      },
      "outputs": [],
      "source": [
        "class portfolio:\n",
        "    def __init__(self,symbol_list,interval=\"1mo\",year_ago=\"5y\",short_sale_constrain = True, ind_weight_constrain = None, invested_cash = 100000):\n",
        "\n",
        "        annualize = {\"1d\":256,\"1wk\":52,\"1mo\":12}\n",
        "\n",
        "        self.price_df,self.symbol_list = get_adjusted_price(symbol_list,interval=interval,year_ago=year_ago)\n",
        "        self.short_sale_constrain = short_sale_constrain\n",
        "        self.ind_weight_constrain = ind_weight_constrain\n",
        "        self.num_stock = len(self.symbol_list)\n",
        "        self.cov_mat = get_risk_premium(self.price_df).cov() * (annualize[interval]) #SAMPLE?\n",
        "        self.ann_rtn_mat = get_risk_premium(self.price_df).mean() * (annualize[interval]) +get_rf() # add rf back to get total return\n",
        "        self.weight_mat = np.ones(self.num_stock)/self.num_stock\n",
        "        self.sharpe = 0\n",
        "        self.ann_rtn = 0 \n",
        "        self.std = 0\n",
        "        self.invest_cash = invested_cash\n",
        "\n",
        "    # show stock price time series plot\n",
        "    def show_price_plot(self):\n",
        "        self.price_df.plot()\n",
        "\n",
        "    # print sharpe, return and standard deviation\n",
        "    def visualize_stat(self):\n",
        "        print(\"Sharpe Ratio:\",round(self.sharpe,4))\n",
        "        print(\"Annul return:\",round(self.ann_rtn,4)*100,\"%\")\n",
        "        print(\"Standard deviation:\", round(self.std,4)*100,\"%\")\n",
        "\n",
        "    # calculate num of stocks to buy\n",
        "    def num_stock_to_buy(self,current_price,equal=False):\n",
        "        if equal:\n",
        "          equal_weight = (np.ones(self.num_stock)/self.num_stock)\n",
        "          return ( equal_weight * self.invest_cash/ current_price).astype(int).rename(index=lambda x:\"number of stock\")\n",
        "        else:\n",
        "          return (self.weight_mat * self.invest_cash/ current_price).astype(int).rename(index=lambda x:\"number of stock\")\n",
        "\n",
        "  \n",
        "    def max_SR(self):\n",
        "\n",
        "        # the max weight range is from -300% to 300% if there is no constraint\n",
        "\n",
        "        # ind weight constraint\n",
        "        upper = (self.ind_weight_constrain) if (self.ind_weight_constrain) else 3\n",
        "        # short sale constrain\n",
        "        lower = 0 if self.short_sale_constrain else -3\n",
        "\n",
        "        bound = [(lower,upper)] * self.num_stock\n",
        "        #sum of weight should be 1\n",
        "        con = LinearConstraint(np.ones(self.num_stock), lb=1, ub=1)\n",
        "\n",
        "        # minimize neg Sharpe = max Sharpe\n",
        "        result = minimize(objective_SR,x0=self.weight_mat,args=(self.ann_rtn_mat,self.cov_mat),bounds=bound,constraints=con)\n",
        "\n",
        "        # update stat \n",
        "        self.sharpe = -(result[\"fun\"])\n",
        "        self.weight_mat = result[\"x\"]\n",
        "        self.ann_rtn = np.dot(self.weight_mat,self.ann_rtn_mat)\n",
        "        self.std = np.sqrt(np.matmul(np.matmul(self.weight_mat,self.cov_mat),self.weight_mat))\n",
        "\n",
        "        # visualize stat\n",
        "        self.visualize_stat()\n",
        "\n",
        "        # visualize weight table \n",
        "        display_df = pd.DataFrame({\" \":self.symbol_list,\"Weight\":list(map(lambda x:str(round(x,3)*100)+\"%\", self.weight_mat))})\n",
        "        display_df = display_df.transpose()\n",
        "        display_df.columns = display_df.iloc[0]\n",
        "        display_df=display_df.iloc[1:,:]\n",
        "        display_df = pd.concat([display_df,self.num_stock_to_buy(self.price_df[-1:])])\n",
        "        display(display_df)\n",
        "      \n",
        "    def Black_Litterman_model(self,view):\n",
        "\n",
        "        spy=yf.download(\"SPY\")[\"Adj Close\"]\n",
        "        # risk aversion score on SPY (index)\n",
        "        risk_aversion = pypfopt.black_litterman.market_implied_risk_aversion(spy, risk_free_rate=get_rf())\n",
        "        # Black_Litterman Model\n",
        "        bl=pypfopt.BlackLittermanModel(cov_matrix=client1.cov_mat, pi=client1.ann_rtn_mat,absolute_views=view,risk_aversion=risk_aversion)\n",
        "\n",
        "        # update stat\n",
        "        # we use POSTERIOR return & cov that are based on prior return to calculate portfolio stat\n",
        "        self.symbol_list = list(bl.bl_weights().keys())\n",
        "        self.weight_mat = np.array(list(bl.bl_weights().values()))\n",
        "        self.ann_rtn = np.dot(list(bl.bl_weights().values()),bl.bl_returns()) + get_rf() # model output EXCESS return --> add rf back\n",
        "        self.std = np.sqrt(np.matmul(np.matmul(self.weight_mat,bl.bl_cov()),self.weight_mat))\n",
        "        self.sharpe = (self.ann_rtn- + get_rf())/ self.std\n",
        "\n",
        "        # visualize stat\n",
        "        self.visualize_stat()\n",
        "\n",
        "        # Visualization\n",
        "        display_df = pd.DataFrame.from_dict(bl.bl_weights(),orient=\"index\")\n",
        "        display_df.columns=[\"Weight\"]\n",
        "        display_df[\"Weight\"] = display_df[\"Weight\"].apply(lambda x : str(round(x,3)*100)+\"%\")\n",
        "        display_df = display_df.transpose()\n",
        "        display_df = pd.concat([display_df,self.num_stock_to_buy(self.price_df[-1:])])\n",
        "        display(display_df)\n",
        "\n",
        "    def back_test(self):\n",
        "      # daily price\n",
        "      daily_price,sym = get_adjusted_price(self.symbol_list,interval=\"1d\",year_ago=\"5y\")\n",
        "      # spy\n",
        "      spy = yf.download(\"SPY\",interval=\"1d\",period=\"5y\")[\"Adj Close\"]\n",
        "\n",
        "      price_len = len(daily_price)\n",
        "      # splice total stock data into 1 and 3 years \n",
        "      three_yr = daily_price.iloc[price_len-255*3:][self.symbol_list]\n",
        "      three_yr_spy= spy[price_len-255*3:]\n",
        "      one_yr = daily_price.iloc[price_len-255:][self.symbol_list]\n",
        "      one_yr_spy= spy[price_len-255:]\n",
        "\n",
        "      # calculate the starting porfolio and the trend \n",
        "      three_yr_start = three_yr.iloc[0]\n",
        "\n",
        "      three_yr_port = self.num_stock_to_buy(three_yr_start)\n",
        "      three_yr_num_sp = int(self.invest_cash/three_yr_spy[0])\n",
        "      three_yr_equal = self.num_stock_to_buy(three_yr_start,equal=True)\n",
        "      \n",
        "      port_trend = np.sum(three_yr * list(three_yr_port),axis=1)\n",
        "      spy_trend = three_yr_spy * three_yr_num_sp\n",
        "      equal_trend = np.sum(three_yr * list(three_yr_equal),axis=1)\n",
        "      plt.plot(port_trend,label=\"Portfolio\")\n",
        "      plt.plot(spy_trend,label=\"SPY\")\n",
        "      plt.plot(equal_trend,label=\"Equal Weighted\")\n",
        "      plt.title(\"Three-year trend SPY vs Porfolio vs Equal Weight\")\n",
        "      plt.axhline(self.invest_cash,linestyle = '--')\n",
        "      plt.legend()\n",
        "      plt.show()\n",
        "      # calculate the starting porfolio and the trend \n",
        "      one_yr_start = one_yr.iloc[0]\n",
        "\n",
        "      one_yr_port = self.num_stock_to_buy(one_yr_start)\n",
        "      one_yr_equal = self.num_stock_to_buy(one_yr_start,equal=True)\n",
        "      one_yr_num_sp = int(self.invest_cash/one_yr_spy[0])\n",
        "\n",
        "      port_trend = np.sum(one_yr * list(one_yr_port),axis=1)\n",
        "      spy_trend = one_yr_spy * one_yr_num_sp\n",
        "      equal_trend = np.sum(one_yr * list(one_yr_equal),axis=1)\n",
        "      plt.plot(port_trend,label=\"Portfolio\")\n",
        "      plt.plot(spy_trend,label=\"SPY\")\n",
        "      plt.plot(equal_trend,label=\"Equal Weighted\")\n",
        "      plt.title(\"One-year trend SPY vs Porfolio vs Equal Weight\")\n",
        "      \n",
        "      plt.legend()\n",
        "      plt.axhline(self.invest_cash,linestyle = '--')\n",
        "      plt.show()"
      ]
    },
    {
      "cell_type": "markdown",
      "source": [
        "# Initialize Your Portfolio Here \n",
        "year_ago = 1mo, 3mo, 6mo, 1y, 2y, 5y, 10y, ytd, max </br>\n",
        "short_sale_constrain = True, False </br>\n",
        "ind_weight_constrain should be larger than 1/N (otherwise get total weight not =1) </br>\n",
        "input will be limited in frontend\n"
      ],
      "metadata": {
        "id": "g4EqvkgV6YA9"
      }
    },
    {
      "cell_type": "code",
      "execution_count": null,
      "metadata": {
        "colab": {
          "base_uri": "https://localhost:8080/"
        },
        "id": "WU5NGqyay0jO",
        "outputId": "526ed78a-8406-4975-eb53-fdf257ef526d"
      },
      "outputs": [
        {
          "output_type": "stream",
          "name": "stdout",
          "text": [
            "[*********************100%***********************]  4 of 4 completed\n"
          ]
        }
      ],
      "source": [
        "client1= portfolio([\"AAPL\",\"IBM\",\"GOOGL\",\"META\"],year_ago=\"5y\",short_sale_constrain = False, ind_weight_constrain = None)"
      ]
    },
    {
      "cell_type": "markdown",
      "source": [
        "### Visualize price"
      ],
      "metadata": {
        "id": "9T2gilIeN3hq"
      }
    },
    {
      "cell_type": "code",
      "execution_count": null,
      "metadata": {
        "id": "uAZOOO-qy0jQ",
        "outputId": "64ade641-14bd-48c0-bb72-77c02a19fc65",
        "colab": {
          "base_uri": "https://localhost:8080/",
          "height": 269
        }
      },
      "outputs": [
        {
          "output_type": "display_data",
          "data": {
            "text/plain": [
              "<Figure size 432x288 with 1 Axes>"
            ],
            "image/png": "[encoded data removed]"
          },
          "metadata": {
            "needs_background": "light"
          }
        }
      ],
      "source": [
        "client1.show_price_plot()"
      ]
    },
    {
      "cell_type": "markdown",
      "source": [
        "## Max Sharpe (purely based on historical data)"
      ],
      "metadata": {
        "id": "6G3SU4amN62E"
      }
    },
    {
      "cell_type": "code",
      "execution_count": null,
      "metadata": {
        "colab": {
          "base_uri": "https://localhost:8080/",
          "height": 162
        },
        "id": "hLFF6etly0jP",
        "outputId": "4a2e1b64-52e5-4181-e09e-dfdb24aa136a"
      },
      "outputs": [
        {
          "output_type": "stream",
          "name": "stdout",
          "text": [
            "Sharpe Ratio: 1.1282\n",
            "Annul return: 45.35 %\n",
            "Standard deviation: 37.49 %\n"
          ]
        },
        {
          "output_type": "display_data",
          "data": {
            "text/plain": [
              "                   META    AAPL  GOOGL   IBM\n",
              "Weight           -73.8%  110.5%  54.1%  9.2%\n",
              "number of stock    -674     782    568    62"
            ],
            "text/html": [
              "\n",
              "  <div id=\"df-ba8b4f2d-3ec4-479d-bc06-fc3da7b39509\">\n",
              "    <div class=\"colab-df-container\">\n",
              "      <div>\n",
              "<style scoped>\n",
              "    .dataframe tbody tr th:only-of-type {\n",
              "        vertical-align: middle;\n",
              "    }\n",
              "\n",
              "    .dataframe tbody tr th {\n",
              "        vertical-align: top;\n",
              "    }\n",
              "\n",
              "    .dataframe thead th {\n",
              "        text-align: right;\n",
              "    }\n",
              "</style>\n",
              "<table border=\"1\" class=\"dataframe\">\n",
              "  <thead>\n",
              "    <tr style=\"text-align: right;\">\n",
              "      <th></th>\n",
              "      <th>META</th>\n",
              "      <th>AAPL</th>\n",
              "      <th>GOOGL</th>\n",
              "      <th>IBM</th>\n",
              "    </tr>\n",
              "  </thead>\n",
              "  <tbody>\n",
              "    <tr>\n",
              "      <th>Weight</th>\n",
              "      <td>-73.8%</td>\n",
              "      <td>110.5%</td>\n",
              "      <td>54.1%</td>\n",
              "      <td>9.2%</td>\n",
              "    </tr>\n",
              "    <tr>\n",
              "      <th>number of stock</th>\n",
              "      <td>-674</td>\n",
              "      <td>782</td>\n",
              "      <td>568</td>\n",
              "      <td>62</td>\n",
              "    </tr>\n",
              "  </tbody>\n",
              "</table>\n",
              "</div>\n",
              "      <button class=\"colab-df-convert\" onclick=\"convertToInteractive('df-ba8b4f2d-3ec4-479d-bc06-fc3da7b39509')\"\n",
              "              title=\"Convert this dataframe to an interactive table.\"\n",
              "              style=\"display:none;\">\n",
              "        \n",
              "  <svg xmlns=\"http://www.w3.org/2000/svg\" height=\"24px\"viewBox=\"0 0 24 24\"\n",
              "       width=\"24px\">\n",
              "    <path d=\"M0 0h24v24H0V0z\" fill=\"none\"/>\n",
              "    <path d=\"M18.56 5.44l.94 2.06.94-2.06 2.06-.94-2.06-.94-.94-2.06-.94 2.06-2.06.94zm-11 1L8.5 8.5l.94-2.06 2.06-.94-2.06-.94L8.5 2.5l-.94 2.06-2.06.94zm10 10l.94 2.06.94-2.06 2.06-.94-2.06-.94-.94-2.06-.94 2.06-2.06.94z\"/><path d=\"M17.41 7.96l-1.37-1.37c-.4-.4-.92-.59-1.43-.59-.52 0-1.04.2-1.43.59L10.3 9.45l-7.72 7.72c-.78.78-.78 2.05 0 2.83L4 21.41c.39.39.9.59 1.41.59.51 0 1.02-.2 1.41-.59l7.78-7.78 2.81-2.81c.8-.78.8-2.07 0-2.86zM5.41 20L4 18.59l7.72-7.72 1.47 1.35L5.41 20z\"/>\n",
              "  </svg>\n",
              "      </button>\n",
              "      \n",
              "  <style>\n",
              "    .colab-df-container {\n",
              "      display:flex;\n",
              "      flex-wrap:wrap;\n",
              "      gap: 12px;\n",
              "    }\n",
              "\n",
              "    .colab-df-convert {\n",
              "      background-color: #E8F0FE;\n",
              "      border: none;\n",
              "      border-radius: 50%;\n",
              "      cursor: pointer;\n",
              "      display: none;\n",
              "      fill: #1967D2;\n",
              "      height: 32px;\n",
              "      padding: 0 0 0 0;\n",
              "      width: 32px;\n",
              "    }\n",
              "\n",
              "    .colab-df-convert:hover {\n",
              "      background-color: #E2EBFA;\n",
              "      box-shadow: 0px 1px 2px rgba(60, 64, 67, 0.3), 0px 1px 3px 1px rgba(60, 64, 67, 0.15);\n",
              "      fill: #174EA6;\n",
              "    }\n",
              "\n",
              "    [theme=dark] .colab-df-convert {\n",
              "      background-color: #3B4455;\n",
              "      fill: #D2E3FC;\n",
              "    }\n",
              "\n",
              "    [theme=dark] .colab-df-convert:hover {\n",
              "      background-color: #434B5C;\n",
              "      box-shadow: 0px 1px 3px 1px rgba(0, 0, 0, 0.15);\n",
              "      filter: drop-shadow(0px 1px 2px rgba(0, 0, 0, 0.3));\n",
              "      fill: #FFFFFF;\n",
              "    }\n",
              "  </style>\n",
              "\n",
              "      <script>\n",
              "        const buttonEl =\n",
              "          document.querySelector('#df-ba8b4f2d-3ec4-479d-bc06-fc3da7b39509 button.colab-df-convert');\n",
              "        buttonEl.style.display =\n",
              "          google.colab.kernel.accessAllowed ? 'block' : 'none';\n",
              "\n",
              "        async function convertToInteractive(key) {\n",
              "          const element = document.querySelector('#df-ba8b4f2d-3ec4-479d-bc06-fc3da7b39509');\n",
              "          const dataTable =\n",
              "            await google.colab.kernel.invokeFunction('convertToInteractive',\n",
              "                                                     [key], {});\n",
              "          if (!dataTable) return;\n",
              "\n",
              "          const docLinkHtml = 'Like what you see? Visit the ' +\n",
              "            '<a target=\"_blank\" href=https://colab.research.google.com/notebooks/data_table.ipynb>data table notebook</a>'\n",
              "            + ' to learn more about interactive tables.';\n",
              "          element.innerHTML = '';\n",
              "          dataTable['output_type'] = 'display_data';\n",
              "          await google.colab.output.renderOutput(dataTable, element);\n",
              "          const docLink = document.createElement('div');\n",
              "          docLink.innerHTML = docLinkHtml;\n",
              "          element.appendChild(docLink);\n",
              "        }\n",
              "      </script>\n",
              "    </div>\n",
              "  </div>\n",
              "  "
            ]
          },
          "metadata": {}
        }
      ],
      "source": [
        "client1.max_SR()"
      ]
    },
    {
      "cell_type": "markdown",
      "source": [
        "## Black-Litterman model (adding user's view) </br>\n",
        "The model is currently using historical return as prior return. I will implement IMPLIED prior return from the market cap weight in given index, such as S&P 500 in this case, which gives us more forward-looking return in the model. Black_Litterman model is more like a linear algebra solution than optimization solution. Thus, I did not find a good way to put constraint (ex. short sale constraint) rather than controlling user's weight. "
      ],
      "metadata": {
        "id": "MiJbyNJm6xRq"
      }
    },
    {
      "cell_type": "code",
      "source": [
        "view = {\"AAPL\":-0.2,\"META\":0.2,\"GOOGL\":-0.05,\"IBM\":0}"
      ],
      "metadata": {
        "id": "REWbg9uN5avK"
      },
      "execution_count": null,
      "outputs": []
    },
    {
      "cell_type": "code",
      "source": [
        "client1.Black_Litterman_model(view)"
      ],
      "metadata": {
        "colab": {
          "base_uri": "https://localhost:8080/",
          "height": 179
        },
        "id": "a9iD414FMDyG",
        "outputId": "f2b560e6-1f77-4991-ddd0-000c468fdbe3"
      },
      "execution_count": null,
      "outputs": [
        {
          "output_type": "stream",
          "name": "stdout",
          "text": [
            "\r[*********************100%***********************]  1 of 1 completed\n",
            "Sharpe Ratio: 0.2995\n",
            "Annul return: 13.819999999999999 %\n",
            "Standard deviation: 35.96 %\n"
          ]
        },
        {
          "output_type": "display_data",
          "data": {
            "text/plain": [
              "                   META   AAPL  GOOGL    IBM\n",
              "Weight           -79.7%  91.9%  62.8%  25.0%\n",
              "number of stock    -728    651    659    170"
            ],
            "text/html": [
              "\n",
              "  <div id=\"df-4d702ad6-0448-412a-9343-0e69c3a06647\">\n",
              "    <div class=\"colab-df-container\">\n",
              "      <div>\n",
              "<style scoped>\n",
              "    .dataframe tbody tr th:only-of-type {\n",
              "        vertical-align: middle;\n",
              "    }\n",
              "\n",
              "    .dataframe tbody tr th {\n",
              "        vertical-align: top;\n",
              "    }\n",
              "\n",
              "    .dataframe thead th {\n",
              "        text-align: right;\n",
              "    }\n",
              "</style>\n",
              "<table border=\"1\" class=\"dataframe\">\n",
              "  <thead>\n",
              "    <tr style=\"text-align: right;\">\n",
              "      <th></th>\n",
              "      <th>META</th>\n",
              "      <th>AAPL</th>\n",
              "      <th>GOOGL</th>\n",
              "      <th>IBM</th>\n",
              "    </tr>\n",
              "  </thead>\n",
              "  <tbody>\n",
              "    <tr>\n",
              "      <th>Weight</th>\n",
              "      <td>-79.7%</td>\n",
              "      <td>91.9%</td>\n",
              "      <td>62.8%</td>\n",
              "      <td>25.0%</td>\n",
              "    </tr>\n",
              "    <tr>\n",
              "      <th>number of stock</th>\n",
              "      <td>-728</td>\n",
              "      <td>651</td>\n",
              "      <td>659</td>\n",
              "      <td>170</td>\n",
              "    </tr>\n",
              "  </tbody>\n",
              "</table>\n",
              "</div>\n",
              "      <button class=\"colab-df-convert\" onclick=\"convertToInteractive('df-4d702ad6-0448-412a-9343-0e69c3a06647')\"\n",
              "              title=\"Convert this dataframe to an interactive table.\"\n",
              "              style=\"display:none;\">\n",
              "        \n",
              "  <svg xmlns=\"http://www.w3.org/2000/svg\" height=\"24px\"viewBox=\"0 0 24 24\"\n",
              "       width=\"24px\">\n",
              "    <path d=\"M0 0h24v24H0V0z\" fill=\"none\"/>\n",
              "    <path d=\"M18.56 5.44l.94 2.06.94-2.06 2.06-.94-2.06-.94-.94-2.06-.94 2.06-2.06.94zm-11 1L8.5 8.5l.94-2.06 2.06-.94-2.06-.94L8.5 2.5l-.94 2.06-2.06.94zm10 10l.94 2.06.94-2.06 2.06-.94-2.06-.94-.94-2.06-.94 2.06-2.06.94z\"/><path d=\"M17.41 7.96l-1.37-1.37c-.4-.4-.92-.59-1.43-.59-.52 0-1.04.2-1.43.59L10.3 9.45l-7.72 7.72c-.78.78-.78 2.05 0 2.83L4 21.41c.39.39.9.59 1.41.59.51 0 1.02-.2 1.41-.59l7.78-7.78 2.81-2.81c.8-.78.8-2.07 0-2.86zM5.41 20L4 18.59l7.72-7.72 1.47 1.35L5.41 20z\"/>\n",
              "  </svg>\n",
              "      </button>\n",
              "      \n",
              "  <style>\n",
              "    .colab-df-container {\n",
              "      display:flex;\n",
              "      flex-wrap:wrap;\n",
              "      gap: 12px;\n",
              "    }\n",
              "\n",
              "    .colab-df-convert {\n",
              "      background-color: #E8F0FE;\n",
              "      border: none;\n",
              "      border-radius: 50%;\n",
              "      cursor: pointer;\n",
              "      display: none;\n",
              "      fill: #1967D2;\n",
              "      height: 32px;\n",
              "      padding: 0 0 0 0;\n",
              "      width: 32px;\n",
              "    }\n",
              "\n",
              "    .colab-df-convert:hover {\n",
              "      background-color: #E2EBFA;\n",
              "      box-shadow: 0px 1px 2px rgba(60, 64, 67, 0.3), 0px 1px 3px 1px rgba(60, 64, 67, 0.15);\n",
              "      fill: #174EA6;\n",
              "    }\n",
              "\n",
              "    [theme=dark] .colab-df-convert {\n",
              "      background-color: #3B4455;\n",
              "      fill: #D2E3FC;\n",
              "    }\n",
              "\n",
              "    [theme=dark] .colab-df-convert:hover {\n",
              "      background-color: #434B5C;\n",
              "      box-shadow: 0px 1px 3px 1px rgba(0, 0, 0, 0.15);\n",
              "      filter: drop-shadow(0px 1px 2px rgba(0, 0, 0, 0.3));\n",
              "      fill: #FFFFFF;\n",
              "    }\n",
              "  </style>\n",
              "\n",
              "      <script>\n",
              "        const buttonEl =\n",
              "          document.querySelector('#df-4d702ad6-0448-412a-9343-0e69c3a06647 button.colab-df-convert');\n",
              "        buttonEl.style.display =\n",
              "          google.colab.kernel.accessAllowed ? 'block' : 'none';\n",
              "\n",
              "        async function convertToInteractive(key) {\n",
              "          const element = document.querySelector('#df-4d702ad6-0448-412a-9343-0e69c3a06647');\n",
              "          const dataTable =\n",
              "            await google.colab.kernel.invokeFunction('convertToInteractive',\n",
              "                                                     [key], {});\n",
              "          if (!dataTable) return;\n",
              "\n",
              "          const docLinkHtml = 'Like what you see? Visit the ' +\n",
              "            '<a target=\"_blank\" href=https://colab.research.google.com/notebooks/data_table.ipynb>data table notebook</a>'\n",
              "            + ' to learn more about interactive tables.';\n",
              "          element.innerHTML = '';\n",
              "          dataTable['output_type'] = 'display_data';\n",
              "          await google.colab.output.renderOutput(dataTable, element);\n",
              "          const docLink = document.createElement('div');\n",
              "          docLink.innerHTML = docLinkHtml;\n",
              "          element.appendChild(docLink);\n",
              "        }\n",
              "      </script>\n",
              "    </div>\n",
              "  </div>\n",
              "  "
            ]
          },
          "metadata": {}
        }
      ]
    },
    {
      "cell_type": "code",
      "source": [
        "client1.back_test()"
      ],
      "metadata": {
        "colab": {
          "base_uri": "https://localhost:8080/",
          "height": 579
        },
        "id": "YxZiWDG0nON3",
        "outputId": "605cd22b-f756-4361-ecf1-b0f9976bd7bb"
      },
      "execution_count": null,
      "outputs": [
        {
          "output_type": "stream",
          "name": "stdout",
          "text": [
            "[*********************100%***********************]  4 of 4 completed\n",
            "[*********************100%***********************]  1 of 1 completed\n"
          ]
        },
        {
          "output_type": "display_data",
          "data": {
            "text/plain": [
              "<Figure size 432x288 with 1 Axes>"
            ],
            "image/png": "[encoded data removed]"
          },
          "metadata": {
            "needs_background": "light"
          }
        },
        {
          "output_type": "display_data",
          "data": {
            "text/plain": [
              "<Figure size 432x288 with 1 Axes>"
            ],
            "image/png": "[encoded data removed]"
          },
          "metadata": {
            "needs_background": "light"
          }
        }
      ]
    },
    {
      "cell_type": "markdown",
      "metadata": {
        "id": "tpElEz_ny0jR"
      },
      "source": [
        "## LSTM on daily price\n",
        "### Input the stock you want to predict"
      ]
    },
    {
      "cell_type": "code",
      "source": [
        "stock_to_predict = \"AAPL\""
      ],
      "metadata": {
        "id": "A7LsVUUuyL-D"
      },
      "execution_count": null,
      "outputs": []
    },
    {
      "cell_type": "code",
      "source": [
        "stock_df =yf.download(stock_to_predict,period=\"5y\")"
      ],
      "metadata": {
        "colab": {
          "base_uri": "https://localhost:8080/"
        },
        "id": "Aw9KWJL8ReTl",
        "outputId": "a11773be-b774-4384-a736-972fd4e8fcf2"
      },
      "execution_count": null,
      "outputs": [
        {
          "output_type": "stream",
          "name": "stdout",
          "text": [
            "\r[*********************100%***********************]  1 of 1 completed\n"
          ]
        }
      ]
    },
    {
      "cell_type": "markdown",
      "source": [
        "## Preprocess data for LSTM\n",
        "### preprocess function\n",
        "For each data point t = i, </br>\n",
        "   x is close price & volume from (i-day_ago) ~ (i-1) </br>\n",
        "   y is close price at i"
      ],
      "metadata": {
        "id": "6-6CKPnQrfgJ"
      }
    },
    {
      "cell_type": "code",
      "execution_count": null,
      "metadata": {
        "id": "xAR4GzZgy0jS"
      },
      "outputs": [],
      "source": [
        "def preprocess_ds(data,day_ago):\n",
        "     x = []\n",
        "     y = []\n",
        "     for i in range(day_ago,len(data)):\n",
        "          x.append(data[i-day_ago:i]) # historical data: (i-day_ago)~(i-1)\n",
        "          y.append(data[i,0]) # current observation: i\n",
        "     return (np.array(x),np.array(y))"
      ]
    },
    {
      "cell_type": "markdown",
      "source": [
        "### Normalization & train-test split"
      ],
      "metadata": {
        "id": "Fb3--I9wtDz1"
      }
    },
    {
      "cell_type": "code",
      "execution_count": null,
      "metadata": {
        "id": "zD3XTC8Sy0jR"
      },
      "outputs": [],
      "source": [
        "day_ago = 50\n",
        "feature_lst = [\"Close\",\"Volume\"]\n",
        "num_feature = len(feature_lst)\n",
        "\n",
        "# Normalization \n",
        "feature_normalizer = preprocessing.MinMaxScaler()\n",
        "normalized_df = feature_normalizer.fit_transform(stock_df[feature_lst])\n",
        "target_normalizer = preprocessing.MinMaxScaler() # use this to transfer prediction back \n",
        "target_normalizer.fit(stock_df[[\"Close\"]]) \n",
        "\n",
        "# train-test split\n",
        "train_split = 0.8\n",
        "split_pt = math.ceil(len(normalized_df) * train_split)\n",
        "\n",
        "train_set = normalized_df[:split_pt]\n",
        "test_set = normalized_df[split_pt:]\n",
        "\n",
        "train_x , train_y = preprocess_ds(train_set,day_ago=day_ago)\n",
        "test_x, test_y = preprocess_ds(test_set,day_ago=day_ago)"
      ]
    },
    {
      "cell_type": "markdown",
      "metadata": {
        "id": "LDWpkNSTy0jT"
      },
      "source": [
        "## model building "
      ]
    },
    {
      "cell_type": "code",
      "execution_count": null,
      "metadata": {
        "id": "c-gZ5bYLy0jT"
      },
      "outputs": [],
      "source": [
        "from tensorflow.python import metrics\n",
        "from tensorflow import keras\n",
        "from tensorflow.keras import layers\n",
        "import tensorflow as tf\n",
        "\n",
        "keras.backend.clear_session()\n",
        "\n",
        "model = keras.Sequential()\n",
        "model.add(layers.LSTM(150,input_shape=(day_ago,num_feature),return_sequences=True))\n",
        "model.add(layers.LSTM(100))\n",
        "model.add(layers.Dense(30,activation=\"relu\"))\n",
        "model.add(layers.Dense(1))\n",
        "\n",
        "model.compile(loss=\"mean_squared_error\",\n",
        "          optimizer=\"adam\")"
      ]
    },
    {
      "cell_type": "markdown",
      "source": [
        "## Fit model on train set\n"
      ],
      "metadata": {
        "id": "O8xIDum4utTO"
      }
    },
    {
      "cell_type": "code",
      "execution_count": null,
      "metadata": {
        "colab": {
          "base_uri": "https://localhost:8080/"
        },
        "id": "j6xKTww3y0jU",
        "outputId": "75be8076-4975-4e3e-f128-125b0a4a570c"
      },
      "outputs": [
        {
          "output_type": "stream",
          "name": "stdout",
          "text": [
            "Epoch 1/5\n",
            "957/957 [==============================] - 43s 41ms/step - loss: 0.0024\n",
            "Epoch 2/5\n",
            "957/957 [==============================] - 38s 40ms/step - loss: 0.0011\n",
            "Epoch 3/5\n",
            "957/957 [==============================] - 39s 41ms/step - loss: 7.9080e-04\n",
            "Epoch 4/5\n",
            "957/957 [==============================] - 39s 40ms/step - loss: 7.0712e-04\n",
            "Epoch 5/5\n",
            "957/957 [==============================] - 40s 42ms/step - loss: 6.1179e-04\n"
          ]
        },
        {
          "output_type": "execute_result",
          "data": {
            "text/plain": [
              "<keras.callbacks.History at 0x7f026b17cd50>"
            ]
          },
          "metadata": {},
          "execution_count": 358
        }
      ],
      "source": [
        "batch_size = 1\n",
        "epochs = 5\n",
        "# Train with train set\n",
        "\n",
        "model.fit(train_x,train_y,epochs=epochs,batch_size=batch_size)"
      ]
    },
    {
      "cell_type": "markdown",
      "source": [
        "### Predict on test set"
      ],
      "metadata": {
        "id": "9-A_rOAbu0Gb"
      }
    },
    {
      "cell_type": "code",
      "execution_count": null,
      "metadata": {
        "colab": {
          "base_uri": "https://localhost:8080/"
        },
        "id": "3R_yEWedy0jV",
        "outputId": "61834cd3-2e97-49e5-9e60-b3f61a0881b7"
      },
      "outputs": [
        {
          "output_type": "stream",
          "name": "stdout",
          "text": [
            "7/7 [==============================] - 1s 43ms/step\n"
          ]
        }
      ],
      "source": [
        "pred_y = model.predict(test_x)"
      ]
    },
    {
      "cell_type": "markdown",
      "source": [
        "## Visualization of test set"
      ],
      "metadata": {
        "id": "BQ40k59Cu50S"
      }
    },
    {
      "cell_type": "code",
      "source": [
        "import matplotlib.pyplot as plt\n",
        "plt.plot(pred_y,label=\"pred_y\")\n",
        "plt.plot(test_y,label=\"test_y\")\n",
        "plt.legend()"
      ],
      "metadata": {
        "colab": {
          "base_uri": "https://localhost:8080/"
        },
        "id": "RDxfz8tmDmIA",
        "outputId": "13858ec8-6940-433c-d905-a92e4a9d435d"
      },
      "execution_count": null,
      "outputs": [
        {
          "output_type": "execute_result",
          "data": {
            "text/plain": [
              "<matplotlib.legend.Legend at 0x7fe1ba347f90>"
            ]
          },
          "metadata": {},
          "execution_count": 15
        },
        {
          "output_type": "display_data",
          "data": {
            "text/plain": [
              "<Figure size 432x288 with 1 Axes>"
            ],
            "image/png": "[encoded data removed]"
          },
          "metadata": {
            "needs_background": "light"
          }
        }
      ]
    },
    {
      "cell_type": "code",
      "source": [],
      "metadata": {
        "id": "A_1LwctRgAgr"
      },
      "execution_count": null,
      "outputs": []
    }
  ],
  "metadata": {
    "colab": {
      "provenance": []
    },
    "kernelspec": {
      "display_name": "Python 3",
      "name": "python3"
    },
    "language_info": {
      "codemirror_mode": {
        "name": "ipython",
        "version": 3
      },
      "file_extension": ".py",
      "mimetype": "text/x-python",
      "name": "python",
      "nbconvert_exporter": "python",
      "pygments_lexer": "ipython3",
      "version": "3.8.8"
    }
  },
  "nbformat": 4,
  "nbformat_minor": 0
}